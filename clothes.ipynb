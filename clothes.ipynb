{
 "cells": [
  {
   "cell_type": "code",
   "execution_count": 20,
   "id": "bedf58e4",
   "metadata": {},
   "outputs": [
    {
     "name": "stderr",
     "output_type": "stream",
     "text": [
      "Matplotlib is building the font cache; this may take a moment.\n"
     ]
    }
   ],
   "source": [
    "import pandas as pd\n",
    "import seaborn as sns"
   ]
  },
  {
   "cell_type": "code",
   "execution_count": 11,
   "id": "e8acd1b3",
   "metadata": {},
   "outputs": [],
   "source": [
    "df = pd.read_csv('clothes-data.csv',header= None)"
   ]
  },
  {
   "cell_type": "code",
   "execution_count": 12,
   "id": "a55b8895",
   "metadata": {},
   "outputs": [
    {
     "data": {
      "text/html": [
       "<div>\n",
       "<style scoped>\n",
       "    .dataframe tbody tr th:only-of-type {\n",
       "        vertical-align: middle;\n",
       "    }\n",
       "\n",
       "    .dataframe tbody tr th {\n",
       "        vertical-align: top;\n",
       "    }\n",
       "\n",
       "    .dataframe thead th {\n",
       "        text-align: right;\n",
       "    }\n",
       "</style>\n",
       "<table border=\"1\" class=\"dataframe\">\n",
       "  <thead>\n",
       "    <tr style=\"text-align: right;\">\n",
       "      <th></th>\n",
       "      <th>0</th>\n",
       "      <th>1</th>\n",
       "    </tr>\n",
       "  </thead>\n",
       "  <tbody>\n",
       "    <tr>\n",
       "      <th>0</th>\n",
       "      <td>plain-dark-blue-shirt</td>\n",
       "      <td>grey-chinos</td>\n",
       "    </tr>\n",
       "    <tr>\n",
       "      <th>1</th>\n",
       "      <td>white-printed-shit</td>\n",
       "      <td>navy-blue-chinos</td>\n",
       "    </tr>\n",
       "    <tr>\n",
       "      <th>2</th>\n",
       "      <td>light-blue-hoodie</td>\n",
       "      <td>black-jeans</td>\n",
       "    </tr>\n",
       "    <tr>\n",
       "      <th>3</th>\n",
       "      <td>plain-black-shirt</td>\n",
       "      <td>grey-chinos</td>\n",
       "    </tr>\n",
       "    <tr>\n",
       "      <th>4</th>\n",
       "      <td>white-printed-shit</td>\n",
       "      <td>navy-blue-chinos</td>\n",
       "    </tr>\n",
       "    <tr>\n",
       "      <th>5</th>\n",
       "      <td>light-green-Tshirt</td>\n",
       "      <td>black-jeans</td>\n",
       "    </tr>\n",
       "    <tr>\n",
       "      <th>6</th>\n",
       "      <td>red-hoddie</td>\n",
       "      <td>black-jeans</td>\n",
       "    </tr>\n",
       "    <tr>\n",
       "      <th>7</th>\n",
       "      <td>plain-black-shirt</td>\n",
       "      <td>grey-chinos</td>\n",
       "    </tr>\n",
       "    <tr>\n",
       "      <th>8</th>\n",
       "      <td>plain-light-blue-shirt</td>\n",
       "      <td>black-chinos</td>\n",
       "    </tr>\n",
       "    <tr>\n",
       "      <th>9</th>\n",
       "      <td>plain-white-shirt</td>\n",
       "      <td>khaki-chinos</td>\n",
       "    </tr>\n",
       "  </tbody>\n",
       "</table>\n",
       "</div>"
      ],
      "text/plain": [
       "                        0                 1\n",
       "0   plain-dark-blue-shirt       grey-chinos\n",
       "1      white-printed-shit  navy-blue-chinos\n",
       "2       light-blue-hoodie       black-jeans\n",
       "3       plain-black-shirt       grey-chinos\n",
       "4      white-printed-shit  navy-blue-chinos\n",
       "5      light-green-Tshirt       black-jeans\n",
       "6              red-hoddie       black-jeans\n",
       "7       plain-black-shirt       grey-chinos\n",
       "8  plain-light-blue-shirt      black-chinos\n",
       "9       plain-white-shirt      khaki-chinos"
      ]
     },
     "execution_count": 12,
     "metadata": {},
     "output_type": "execute_result"
    }
   ],
   "source": [
    "df.head(10)"
   ]
  },
  {
   "cell_type": "code",
   "execution_count": 13,
   "id": "1f871fff",
   "metadata": {},
   "outputs": [],
   "source": [
    "transactions = []\n",
    "for i in range(0, 23):\n",
    "  transactions.append([str(df.values[i,j]) for j in range(0,2)])"
   ]
  },
  {
   "cell_type": "code",
   "execution_count": 14,
   "id": "11298ff3",
   "metadata": {},
   "outputs": [],
   "source": [
    "from apyori import apriori\n",
    "rules = apriori(transactions = transactions, min_support = 0.003, min_confidence = 0.2, min_lift = 3, min_length = 2, max_length = 2)"
   ]
  },
  {
   "cell_type": "code",
   "execution_count": 15,
   "id": "913ff89c",
   "metadata": {},
   "outputs": [],
   "source": [
    "results = list(rules)"
   ]
  },
  {
   "cell_type": "code",
   "execution_count": 16,
   "id": "c6cc38a1",
   "metadata": {},
   "outputs": [
    {
     "data": {
      "text/plain": [
       "[RelationRecord(items=frozenset({'black-chinos', 'plain-light-blue-shirt'}), support=0.043478260869565216, ordered_statistics=[OrderedStatistic(items_base=frozenset({'black-chinos'}), items_add=frozenset({'plain-light-blue-shirt'}), confidence=0.3333333333333333, lift=3.833333333333333), OrderedStatistic(items_base=frozenset({'plain-light-blue-shirt'}), items_add=frozenset({'black-chinos'}), confidence=0.5, lift=3.8333333333333335)]),\n",
       " RelationRecord(items=frozenset({'black-chinos', 'plain-maroon-shirt'}), support=0.043478260869565216, ordered_statistics=[OrderedStatistic(items_base=frozenset({'black-chinos'}), items_add=frozenset({'plain-maroon-shirt'}), confidence=0.3333333333333333, lift=3.833333333333333), OrderedStatistic(items_base=frozenset({'plain-maroon-shirt'}), items_add=frozenset({'black-chinos'}), confidence=0.5, lift=3.8333333333333335)]),\n",
       " RelationRecord(items=frozenset({'black-jeans', 'light-blue-hoodie'}), support=0.043478260869565216, ordered_statistics=[OrderedStatistic(items_base=frozenset({'black-jeans'}), items_add=frozenset({'light-blue-hoodie'}), confidence=0.3333333333333333, lift=7.666666666666666), OrderedStatistic(items_base=frozenset({'light-blue-hoodie'}), items_add=frozenset({'black-jeans'}), confidence=1.0, lift=7.666666666666667)]),\n",
       " RelationRecord(items=frozenset({'light-green-Tshirt', 'black-jeans'}), support=0.043478260869565216, ordered_statistics=[OrderedStatistic(items_base=frozenset({'black-jeans'}), items_add=frozenset({'light-green-Tshirt'}), confidence=0.3333333333333333, lift=7.666666666666666), OrderedStatistic(items_base=frozenset({'light-green-Tshirt'}), items_add=frozenset({'black-jeans'}), confidence=1.0, lift=7.666666666666667)]),\n",
       " RelationRecord(items=frozenset({'black-jeans', 'red-hoddie'}), support=0.043478260869565216, ordered_statistics=[OrderedStatistic(items_base=frozenset({'black-jeans'}), items_add=frozenset({'red-hoddie'}), confidence=0.3333333333333333, lift=7.666666666666666), OrderedStatistic(items_base=frozenset({'red-hoddie'}), items_add=frozenset({'black-jeans'}), confidence=1.0, lift=7.666666666666667)]),\n",
       " RelationRecord(items=frozenset({'blue-chinos', 'plain-pink-shirt'}), support=0.043478260869565216, ordered_statistics=[OrderedStatistic(items_base=frozenset({'blue-chinos'}), items_add=frozenset({'plain-pink-shirt'}), confidence=1.0, lift=23.0), OrderedStatistic(items_base=frozenset({'plain-pink-shirt'}), items_add=frozenset({'blue-chinos'}), confidence=1.0, lift=23.0)]),\n",
       " RelationRecord(items=frozenset({'checkered-blue-shirt', 'khaki-chinos'}), support=0.043478260869565216, ordered_statistics=[OrderedStatistic(items_base=frozenset({'checkered-blue-shirt'}), items_add=frozenset({'khaki-chinos'}), confidence=1.0, lift=11.5), OrderedStatistic(items_base=frozenset({'khaki-chinos'}), items_add=frozenset({'checkered-blue-shirt'}), confidence=0.5, lift=11.5)]),\n",
       " RelationRecord(items=frozenset({'dark-green-shirt', 'cream-pants'}), support=0.043478260869565216, ordered_statistics=[OrderedStatistic(items_base=frozenset({'cream-pants'}), items_add=frozenset({'dark-green-shirt'}), confidence=0.5, lift=11.5), OrderedStatistic(items_base=frozenset({'dark-green-shirt'}), items_add=frozenset({'cream-pants'}), confidence=1.0, lift=11.5)]),\n",
       " RelationRecord(items=frozenset({'plain-black-shirt', 'cream-pants'}), support=0.043478260869565216, ordered_statistics=[OrderedStatistic(items_base=frozenset({'cream-pants'}), items_add=frozenset({'plain-black-shirt'}), confidence=0.5, lift=3.8333333333333335), OrderedStatistic(items_base=frozenset({'plain-black-shirt'}), items_add=frozenset({'cream-pants'}), confidence=0.3333333333333333, lift=3.833333333333333)]),\n",
       " RelationRecord(items=frozenset({'dark-brown-pant', 'plain-white-shirt'}), support=0.043478260869565216, ordered_statistics=[OrderedStatistic(items_base=frozenset({'dark-brown-pant'}), items_add=frozenset({'plain-white-shirt'}), confidence=1.0, lift=3.8333333333333335)]),\n",
       " RelationRecord(items=frozenset({'greeen-chinos', 'plain-white-shirt'}), support=0.08695652173913043, ordered_statistics=[OrderedStatistic(items_base=frozenset({'greeen-chinos'}), items_add=frozenset({'plain-white-shirt'}), confidence=1.0, lift=3.8333333333333335), OrderedStatistic(items_base=frozenset({'plain-white-shirt'}), items_add=frozenset({'greeen-chinos'}), confidence=0.3333333333333333, lift=3.833333333333333)]),\n",
       " RelationRecord(items=frozenset({'grey-chinos', 'plain-black-shirt'}), support=0.08695652173913043, ordered_statistics=[OrderedStatistic(items_base=frozenset({'grey-chinos'}), items_add=frozenset({'plain-black-shirt'}), confidence=0.4, lift=3.066666666666667), OrderedStatistic(items_base=frozenset({'plain-black-shirt'}), items_add=frozenset({'grey-chinos'}), confidence=0.6666666666666666, lift=3.0666666666666664)]),\n",
       " RelationRecord(items=frozenset({'grey-chinos', 'plain-dark-blue-shirt'}), support=0.043478260869565216, ordered_statistics=[OrderedStatistic(items_base=frozenset({'grey-chinos'}), items_add=frozenset({'plain-dark-blue-shirt'}), confidence=0.2, lift=4.6000000000000005), OrderedStatistic(items_base=frozenset({'plain-dark-blue-shirt'}), items_add=frozenset({'grey-chinos'}), confidence=1.0, lift=4.6000000000000005)]),\n",
       " RelationRecord(items=frozenset({'navy-blue-chinos', 'plain-light-blue-shirt'}), support=0.043478260869565216, ordered_statistics=[OrderedStatistic(items_base=frozenset({'navy-blue-chinos'}), items_add=frozenset({'plain-light-blue-shirt'}), confidence=0.3333333333333333, lift=3.833333333333333), OrderedStatistic(items_base=frozenset({'plain-light-blue-shirt'}), items_add=frozenset({'navy-blue-chinos'}), confidence=0.5, lift=3.8333333333333335)]),\n",
       " RelationRecord(items=frozenset({'navy-blue-chinos', 'white-printed-shit'}), support=0.08695652173913043, ordered_statistics=[OrderedStatistic(items_base=frozenset({'navy-blue-chinos'}), items_add=frozenset({'white-printed-shit'}), confidence=0.6666666666666666, lift=7.666666666666666), OrderedStatistic(items_base=frozenset({'white-printed-shit'}), items_add=frozenset({'navy-blue-chinos'}), confidence=1.0, lift=7.666666666666667)]),\n",
       " RelationRecord(items=frozenset({'white-chinos', 'plain-navy-blue-shirt'}), support=0.043478260869565216, ordered_statistics=[OrderedStatistic(items_base=frozenset({'plain-navy-blue-shirt'}), items_add=frozenset({'white-chinos'}), confidence=1.0, lift=23.0), OrderedStatistic(items_base=frozenset({'white-chinos'}), items_add=frozenset({'plain-navy-blue-shirt'}), confidence=1.0, lift=23.0)])]"
      ]
     },
     "execution_count": 16,
     "metadata": {},
     "output_type": "execute_result"
    }
   ],
   "source": [
    "results"
   ]
  },
  {
   "cell_type": "code",
   "execution_count": 17,
   "id": "3eb1995c",
   "metadata": {},
   "outputs": [],
   "source": [
    "def inspect(results):\n",
    "    lhs         = [tuple(result[2][0][0])[0] for result in results]\n",
    "    rhs         = [tuple(result[2][0][1])[0] for result in results]\n",
    "    supports    = [result[1] for result in results]\n",
    "    confidences = [result[2][0][2] for result in results]\n",
    "    lifts       = [result[2][0][3] for result in results]\n",
    "    return list(zip(lhs, rhs, supports, confidences, lifts))\n",
    "resultsinDataFrame = pd.DataFrame(inspect(results), columns = ['Left Hand Side', 'Right Hand Side', 'Support', 'Confidence', 'Lift'])"
   ]
  },
  {
   "cell_type": "code",
   "execution_count": 18,
   "id": "fd5db98f",
   "metadata": {},
   "outputs": [
    {
     "data": {
      "text/html": [
       "<div>\n",
       "<style scoped>\n",
       "    .dataframe tbody tr th:only-of-type {\n",
       "        vertical-align: middle;\n",
       "    }\n",
       "\n",
       "    .dataframe tbody tr th {\n",
       "        vertical-align: top;\n",
       "    }\n",
       "\n",
       "    .dataframe thead th {\n",
       "        text-align: right;\n",
       "    }\n",
       "</style>\n",
       "<table border=\"1\" class=\"dataframe\">\n",
       "  <thead>\n",
       "    <tr style=\"text-align: right;\">\n",
       "      <th></th>\n",
       "      <th>Left Hand Side</th>\n",
       "      <th>Right Hand Side</th>\n",
       "      <th>Support</th>\n",
       "      <th>Confidence</th>\n",
       "      <th>Lift</th>\n",
       "    </tr>\n",
       "  </thead>\n",
       "  <tbody>\n",
       "    <tr>\n",
       "      <th>0</th>\n",
       "      <td>black-chinos</td>\n",
       "      <td>plain-light-blue-shirt</td>\n",
       "      <td>0.043478</td>\n",
       "      <td>0.333333</td>\n",
       "      <td>3.833333</td>\n",
       "    </tr>\n",
       "    <tr>\n",
       "      <th>1</th>\n",
       "      <td>black-chinos</td>\n",
       "      <td>plain-maroon-shirt</td>\n",
       "      <td>0.043478</td>\n",
       "      <td>0.333333</td>\n",
       "      <td>3.833333</td>\n",
       "    </tr>\n",
       "    <tr>\n",
       "      <th>2</th>\n",
       "      <td>black-jeans</td>\n",
       "      <td>light-blue-hoodie</td>\n",
       "      <td>0.043478</td>\n",
       "      <td>0.333333</td>\n",
       "      <td>7.666667</td>\n",
       "    </tr>\n",
       "    <tr>\n",
       "      <th>3</th>\n",
       "      <td>black-jeans</td>\n",
       "      <td>light-green-Tshirt</td>\n",
       "      <td>0.043478</td>\n",
       "      <td>0.333333</td>\n",
       "      <td>7.666667</td>\n",
       "    </tr>\n",
       "    <tr>\n",
       "      <th>4</th>\n",
       "      <td>black-jeans</td>\n",
       "      <td>red-hoddie</td>\n",
       "      <td>0.043478</td>\n",
       "      <td>0.333333</td>\n",
       "      <td>7.666667</td>\n",
       "    </tr>\n",
       "    <tr>\n",
       "      <th>5</th>\n",
       "      <td>blue-chinos</td>\n",
       "      <td>plain-pink-shirt</td>\n",
       "      <td>0.043478</td>\n",
       "      <td>1.000000</td>\n",
       "      <td>23.000000</td>\n",
       "    </tr>\n",
       "    <tr>\n",
       "      <th>6</th>\n",
       "      <td>checkered-blue-shirt</td>\n",
       "      <td>khaki-chinos</td>\n",
       "      <td>0.043478</td>\n",
       "      <td>1.000000</td>\n",
       "      <td>11.500000</td>\n",
       "    </tr>\n",
       "    <tr>\n",
       "      <th>7</th>\n",
       "      <td>cream-pants</td>\n",
       "      <td>dark-green-shirt</td>\n",
       "      <td>0.043478</td>\n",
       "      <td>0.500000</td>\n",
       "      <td>11.500000</td>\n",
       "    </tr>\n",
       "    <tr>\n",
       "      <th>8</th>\n",
       "      <td>cream-pants</td>\n",
       "      <td>plain-black-shirt</td>\n",
       "      <td>0.043478</td>\n",
       "      <td>0.500000</td>\n",
       "      <td>3.833333</td>\n",
       "    </tr>\n",
       "    <tr>\n",
       "      <th>9</th>\n",
       "      <td>dark-brown-pant</td>\n",
       "      <td>plain-white-shirt</td>\n",
       "      <td>0.043478</td>\n",
       "      <td>1.000000</td>\n",
       "      <td>3.833333</td>\n",
       "    </tr>\n",
       "    <tr>\n",
       "      <th>10</th>\n",
       "      <td>greeen-chinos</td>\n",
       "      <td>plain-white-shirt</td>\n",
       "      <td>0.086957</td>\n",
       "      <td>1.000000</td>\n",
       "      <td>3.833333</td>\n",
       "    </tr>\n",
       "    <tr>\n",
       "      <th>11</th>\n",
       "      <td>grey-chinos</td>\n",
       "      <td>plain-black-shirt</td>\n",
       "      <td>0.086957</td>\n",
       "      <td>0.400000</td>\n",
       "      <td>3.066667</td>\n",
       "    </tr>\n",
       "    <tr>\n",
       "      <th>12</th>\n",
       "      <td>grey-chinos</td>\n",
       "      <td>plain-dark-blue-shirt</td>\n",
       "      <td>0.043478</td>\n",
       "      <td>0.200000</td>\n",
       "      <td>4.600000</td>\n",
       "    </tr>\n",
       "    <tr>\n",
       "      <th>13</th>\n",
       "      <td>navy-blue-chinos</td>\n",
       "      <td>plain-light-blue-shirt</td>\n",
       "      <td>0.043478</td>\n",
       "      <td>0.333333</td>\n",
       "      <td>3.833333</td>\n",
       "    </tr>\n",
       "    <tr>\n",
       "      <th>14</th>\n",
       "      <td>navy-blue-chinos</td>\n",
       "      <td>white-printed-shit</td>\n",
       "      <td>0.086957</td>\n",
       "      <td>0.666667</td>\n",
       "      <td>7.666667</td>\n",
       "    </tr>\n",
       "    <tr>\n",
       "      <th>15</th>\n",
       "      <td>plain-navy-blue-shirt</td>\n",
       "      <td>white-chinos</td>\n",
       "      <td>0.043478</td>\n",
       "      <td>1.000000</td>\n",
       "      <td>23.000000</td>\n",
       "    </tr>\n",
       "  </tbody>\n",
       "</table>\n",
       "</div>"
      ],
      "text/plain": [
       "           Left Hand Side         Right Hand Side   Support  Confidence  \\\n",
       "0            black-chinos  plain-light-blue-shirt  0.043478    0.333333   \n",
       "1            black-chinos      plain-maroon-shirt  0.043478    0.333333   \n",
       "2             black-jeans       light-blue-hoodie  0.043478    0.333333   \n",
       "3             black-jeans      light-green-Tshirt  0.043478    0.333333   \n",
       "4             black-jeans              red-hoddie  0.043478    0.333333   \n",
       "5             blue-chinos        plain-pink-shirt  0.043478    1.000000   \n",
       "6    checkered-blue-shirt            khaki-chinos  0.043478    1.000000   \n",
       "7             cream-pants        dark-green-shirt  0.043478    0.500000   \n",
       "8             cream-pants       plain-black-shirt  0.043478    0.500000   \n",
       "9         dark-brown-pant       plain-white-shirt  0.043478    1.000000   \n",
       "10          greeen-chinos       plain-white-shirt  0.086957    1.000000   \n",
       "11            grey-chinos       plain-black-shirt  0.086957    0.400000   \n",
       "12            grey-chinos   plain-dark-blue-shirt  0.043478    0.200000   \n",
       "13       navy-blue-chinos  plain-light-blue-shirt  0.043478    0.333333   \n",
       "14       navy-blue-chinos      white-printed-shit  0.086957    0.666667   \n",
       "15  plain-navy-blue-shirt            white-chinos  0.043478    1.000000   \n",
       "\n",
       "         Lift  \n",
       "0    3.833333  \n",
       "1    3.833333  \n",
       "2    7.666667  \n",
       "3    7.666667  \n",
       "4    7.666667  \n",
       "5   23.000000  \n",
       "6   11.500000  \n",
       "7   11.500000  \n",
       "8    3.833333  \n",
       "9    3.833333  \n",
       "10   3.833333  \n",
       "11   3.066667  \n",
       "12   4.600000  \n",
       "13   3.833333  \n",
       "14   7.666667  \n",
       "15  23.000000  "
      ]
     },
     "execution_count": 18,
     "metadata": {},
     "output_type": "execute_result"
    }
   ],
   "source": [
    "resultsinDataFrame"
   ]
  },
  {
   "cell_type": "code",
   "execution_count": 19,
   "id": "f5e197bd",
   "metadata": {},
   "outputs": [
    {
     "data": {
      "text/html": [
       "<div>\n",
       "<style scoped>\n",
       "    .dataframe tbody tr th:only-of-type {\n",
       "        vertical-align: middle;\n",
       "    }\n",
       "\n",
       "    .dataframe tbody tr th {\n",
       "        vertical-align: top;\n",
       "    }\n",
       "\n",
       "    .dataframe thead th {\n",
       "        text-align: right;\n",
       "    }\n",
       "</style>\n",
       "<table border=\"1\" class=\"dataframe\">\n",
       "  <thead>\n",
       "    <tr style=\"text-align: right;\">\n",
       "      <th></th>\n",
       "      <th>Left Hand Side</th>\n",
       "      <th>Right Hand Side</th>\n",
       "      <th>Support</th>\n",
       "      <th>Confidence</th>\n",
       "      <th>Lift</th>\n",
       "    </tr>\n",
       "  </thead>\n",
       "  <tbody>\n",
       "    <tr>\n",
       "      <th>5</th>\n",
       "      <td>blue-chinos</td>\n",
       "      <td>plain-pink-shirt</td>\n",
       "      <td>0.043478</td>\n",
       "      <td>1.000000</td>\n",
       "      <td>23.000000</td>\n",
       "    </tr>\n",
       "    <tr>\n",
       "      <th>15</th>\n",
       "      <td>plain-navy-blue-shirt</td>\n",
       "      <td>white-chinos</td>\n",
       "      <td>0.043478</td>\n",
       "      <td>1.000000</td>\n",
       "      <td>23.000000</td>\n",
       "    </tr>\n",
       "    <tr>\n",
       "      <th>6</th>\n",
       "      <td>checkered-blue-shirt</td>\n",
       "      <td>khaki-chinos</td>\n",
       "      <td>0.043478</td>\n",
       "      <td>1.000000</td>\n",
       "      <td>11.500000</td>\n",
       "    </tr>\n",
       "    <tr>\n",
       "      <th>7</th>\n",
       "      <td>cream-pants</td>\n",
       "      <td>dark-green-shirt</td>\n",
       "      <td>0.043478</td>\n",
       "      <td>0.500000</td>\n",
       "      <td>11.500000</td>\n",
       "    </tr>\n",
       "    <tr>\n",
       "      <th>2</th>\n",
       "      <td>black-jeans</td>\n",
       "      <td>light-blue-hoodie</td>\n",
       "      <td>0.043478</td>\n",
       "      <td>0.333333</td>\n",
       "      <td>7.666667</td>\n",
       "    </tr>\n",
       "    <tr>\n",
       "      <th>3</th>\n",
       "      <td>black-jeans</td>\n",
       "      <td>light-green-Tshirt</td>\n",
       "      <td>0.043478</td>\n",
       "      <td>0.333333</td>\n",
       "      <td>7.666667</td>\n",
       "    </tr>\n",
       "    <tr>\n",
       "      <th>4</th>\n",
       "      <td>black-jeans</td>\n",
       "      <td>red-hoddie</td>\n",
       "      <td>0.043478</td>\n",
       "      <td>0.333333</td>\n",
       "      <td>7.666667</td>\n",
       "    </tr>\n",
       "    <tr>\n",
       "      <th>14</th>\n",
       "      <td>navy-blue-chinos</td>\n",
       "      <td>white-printed-shit</td>\n",
       "      <td>0.086957</td>\n",
       "      <td>0.666667</td>\n",
       "      <td>7.666667</td>\n",
       "    </tr>\n",
       "    <tr>\n",
       "      <th>12</th>\n",
       "      <td>grey-chinos</td>\n",
       "      <td>plain-dark-blue-shirt</td>\n",
       "      <td>0.043478</td>\n",
       "      <td>0.200000</td>\n",
       "      <td>4.600000</td>\n",
       "    </tr>\n",
       "    <tr>\n",
       "      <th>8</th>\n",
       "      <td>cream-pants</td>\n",
       "      <td>plain-black-shirt</td>\n",
       "      <td>0.043478</td>\n",
       "      <td>0.500000</td>\n",
       "      <td>3.833333</td>\n",
       "    </tr>\n",
       "  </tbody>\n",
       "</table>\n",
       "</div>"
      ],
      "text/plain": [
       "           Left Hand Side        Right Hand Side   Support  Confidence  \\\n",
       "5             blue-chinos       plain-pink-shirt  0.043478    1.000000   \n",
       "15  plain-navy-blue-shirt           white-chinos  0.043478    1.000000   \n",
       "6    checkered-blue-shirt           khaki-chinos  0.043478    1.000000   \n",
       "7             cream-pants       dark-green-shirt  0.043478    0.500000   \n",
       "2             black-jeans      light-blue-hoodie  0.043478    0.333333   \n",
       "3             black-jeans     light-green-Tshirt  0.043478    0.333333   \n",
       "4             black-jeans             red-hoddie  0.043478    0.333333   \n",
       "14       navy-blue-chinos     white-printed-shit  0.086957    0.666667   \n",
       "12            grey-chinos  plain-dark-blue-shirt  0.043478    0.200000   \n",
       "8             cream-pants      plain-black-shirt  0.043478    0.500000   \n",
       "\n",
       "         Lift  \n",
       "5   23.000000  \n",
       "15  23.000000  \n",
       "6   11.500000  \n",
       "7   11.500000  \n",
       "2    7.666667  \n",
       "3    7.666667  \n",
       "4    7.666667  \n",
       "14   7.666667  \n",
       "12   4.600000  \n",
       "8    3.833333  "
      ]
     },
     "execution_count": 19,
     "metadata": {},
     "output_type": "execute_result"
    }
   ],
   "source": [
    "resultsinDataFrame.nlargest(n = 10, columns = 'Lift')"
   ]
  },
  {
   "cell_type": "code",
   "execution_count": 26,
   "id": "be8d31bb",
   "metadata": {},
   "outputs": [
    {
     "data": {
      "text/plain": [
       "<AxesSubplot:xlabel='Support', ylabel='Density'>"
      ]
     },
     "execution_count": 26,
     "metadata": {},
     "output_type": "execute_result"
    },
    {
     "data": {
      "image/png": "[encoded data removed]",
      "text/plain": [
       "<Figure size 432x288 with 1 Axes>"
      ]
     },
     "metadata": {
      "needs_background": "light"
     },
     "output_type": "display_data"
    }
   ],
   "source": [
    "sns.kdeplot(data=resultsinDataFrame,x='Support')"
   ]
  },
  {
   "cell_type": "code",
   "execution_count": 27,
   "id": "6ff27e69",
   "metadata": {},
   "outputs": [
    {
     "data": {
      "text/plain": [
       "<AxesSubplot:xlabel='Lift', ylabel='Density'>"
      ]
     },
     "execution_count": 27,
     "metadata": {},
     "output_type": "execute_result"
    },
    {
     "data": {
      "image/png": "[encoded data removed]",
      "text/plain": [
       "<Figure size 432x288 with 1 Axes>"
      ]
     },
     "metadata": {
      "needs_background": "light"
     },
     "output_type": "display_data"
    }
   ],
   "source": [
    "sns.kdeplot(data=resultsinDataFrame,x='Lift')"
   ]
  },
  {
   "cell_type": "code",
   "execution_count": null,
   "id": "84dddaa9",
   "metadata": {},
   "outputs": [],
   "source": []
  }
 ],
 "metadata": {
  "kernelspec": {
   "display_name": "Python 3",
   "language": "python",
   "name": "python3"
  },
  "language_info": {
   "codemirror_mode": {
    "name": "ipython",
    "version": 3
   },
   "file_extension": ".py",
   "mimetype": "text/x-python",
   "name": "python",
   "nbconvert_exporter": "python",
   "pygments_lexer": "ipython3",
   "version": "3.8.8"
  }
 },
 "nbformat": 4,
 "nbformat_minor": 5
}
